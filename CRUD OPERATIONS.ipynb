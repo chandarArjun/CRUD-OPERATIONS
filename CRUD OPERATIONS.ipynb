{
 "cells": [
  {
   "cell_type": "code",
   "execution_count": 28,
   "id": "0b2af37a",
   "metadata": {},
   "outputs": [],
   "source": [
    "import pymongo"
   ]
  },
  {
   "cell_type": "code",
   "execution_count": 29,
   "id": "cebad9d0",
   "metadata": {},
   "outputs": [],
   "source": [
    "connection_url=\"mongodb://localhost:27017/\""
   ]
  },
  {
   "cell_type": "code",
   "execution_count": 30,
   "id": "c02cb890",
   "metadata": {},
   "outputs": [],
   "source": [
    "client=pymongo.MongoClient(connection_url)"
   ]
  },
  {
   "cell_type": "code",
   "execution_count": 31,
   "id": "59311675",
   "metadata": {},
   "outputs": [
    {
     "data": {
      "text/plain": [
       "['admin', 'config', 'local', 'mylibrary', 'student_database', 'test']"
      ]
     },
     "execution_count": 31,
     "metadata": {},
     "output_type": "execute_result"
    }
   ],
   "source": [
    "client.list_database_names()"
   ]
  },
  {
   "cell_type": "code",
   "execution_count": 32,
   "id": "b4cd3914",
   "metadata": {},
   "outputs": [],
   "source": [
    "#CREATING THE DATABASE\n",
    "database_name=\"student_database\"\n",
    "student_db=client[database_name]"
   ]
  },
  {
   "cell_type": "code",
   "execution_count": 33,
   "id": "aece24cc",
   "metadata": {},
   "outputs": [],
   "source": [
    "collection_name=\"Student_info\"\n",
    "collection=student_db[collection_name]"
   ]
  },
  {
   "cell_type": "code",
   "execution_count": 16,
   "id": "15fb64a6",
   "metadata": {},
   "outputs": [
    {
     "data": {
      "text/plain": [
       "[]"
      ]
     },
     "execution_count": 16,
     "metadata": {},
     "output_type": "execute_result"
    }
   ],
   "source": [
    "student_db.list_collection_names()"
   ]
  },
  {
   "cell_type": "code",
   "execution_count": 34,
   "id": "e5d908a3",
   "metadata": {},
   "outputs": [
    {
     "data": {
      "text/plain": [
       "<pymongo.results.InsertOneResult at 0x2aab4e9fd88>"
      ]
     },
     "execution_count": 34,
     "metadata": {},
     "output_type": "execute_result"
    }
   ],
   "source": [
    "#INSERTING a single Document\n",
    "document={\"Name\":\"Raj\",\n",
    "\"Phone number \":  9999997777,\n",
    "\"Place \": \"Chennai\"}\n",
    "collection.insert_one(document)"
   ]
  },
  {
   "cell_type": "code",
   "execution_count": 35,
   "id": "df0d9aae",
   "metadata": {},
   "outputs": [
    {
     "data": {
      "text/plain": [
       "<pymongo.results.InsertManyResult at 0x2aab4e4ed08>"
      ]
     },
     "execution_count": 35,
     "metadata": {},
     "output_type": "execute_result"
    }
   ],
   "source": [
    "#INSERTING many Documents\n",
    "documents=[{\"Name\":\"Roshan\",\"Phone number\":9445577159,\"Place \":\"Chennai\"},{\"Name\":\"Rahim\",\"Phone number\":9445577155,\"Place \":\"Chennai\"},{\"Name\":\"Rajesh\",\"Phone number\":9445577156,\"Place \":\"Chennai\"}]\n",
    "collection.insert_many(documents)"
   ]
  },
  {
   "cell_type": "code",
   "execution_count": 36,
   "id": "490ad8ab",
   "metadata": {},
   "outputs": [
    {
     "name": "stdout",
     "output_type": "stream",
     "text": [
      "{'_id': ObjectId('6227639ccbc19411eba382e8'), 'Name': 'Raj', 'Phone number ': 9999997777, 'Place ': 'Chennai'}\n"
     ]
    }
   ],
   "source": [
    "#RETRIEVING a Document\n",
    "query={\"Name\":\"Raj\"}\n",
    "print(collection.find_one(query))\n"
   ]
  },
  {
   "cell_type": "code",
   "execution_count": 38,
   "id": "8583574f",
   "metadata": {},
   "outputs": [
    {
     "name": "stdout",
     "output_type": "stream",
     "text": [
      "{'_id': ObjectId('6227639ccbc19411eba382e8'), 'Name': 'Raj', 'Phone number ': 9999997777, 'Place ': 'Chennai'}\n",
      "{'_id': ObjectId('622763a1cbc19411eba382e9'), 'Name': 'Roshan', 'Phone number': 9445577159, 'Place ': 'Chennai'}\n"
     ]
    }
   ],
   "source": [
    "#RETRIEVING many Documents\n",
    "result=collection.find({}).limit(2)\n",
    "for i in result:\n",
    "    print(i)"
   ]
  },
  {
   "cell_type": "code",
   "execution_count": 50,
   "id": "528550f9",
   "metadata": {},
   "outputs": [
    {
     "data": {
      "text/plain": [
       "<pymongo.results.UpdateResult at 0x2aab6bf7d08>"
      ]
     },
     "execution_count": 50,
     "metadata": {},
     "output_type": "execute_result"
    }
   ],
   "source": [
    "#UPDATING  DOCUMENTS\n",
    "present_data={\"Place\":\"Chennai\"}\n",
    "new_data={\"$set\":{\"Place\":\"Bangalore\"}}\n",
    "collection.update_many(present_data,new_data)\n"
   ]
  },
  {
   "cell_type": "code",
   "execution_count": 51,
   "id": "ecc3c9e9",
   "metadata": {},
   "outputs": [
    {
     "data": {
      "text/plain": [
       "<pymongo.results.DeleteResult at 0x2aab6bf4c88>"
      ]
     },
     "execution_count": 51,
     "metadata": {},
     "output_type": "execute_result"
    }
   ],
   "source": [
    "#DELETING A DOCUMENT\n",
    "query={\"Phone number\":9445577156}\n",
    "collection.delete_one(query)"
   ]
  },
  {
   "cell_type": "code",
   "execution_count": 53,
   "id": "e3fcc446",
   "metadata": {},
   "outputs": [
    {
     "data": {
      "text/plain": [
       "<pymongo.results.DeleteResult at 0x2aab6bf4708>"
      ]
     },
     "execution_count": 53,
     "metadata": {},
     "output_type": "execute_result"
    }
   ],
   "source": [
    "#DELETING A DOCUMENTS\n",
    "query={\"Place\":\"Bangalore\"}\n",
    "collection.delete_many(query)"
   ]
  },
  {
   "cell_type": "code",
   "execution_count": null,
   "id": "cfc432dc",
   "metadata": {},
   "outputs": [],
   "source": []
  }
 ],
 "metadata": {
  "kernelspec": {
   "display_name": "Python 3 (ipykernel)",
   "language": "python",
   "name": "python3"
  },
  "language_info": {
   "codemirror_mode": {
    "name": "ipython",
    "version": 3
   },
   "file_extension": ".py",
   "mimetype": "text/x-python",
   "name": "python",
   "nbconvert_exporter": "python",
   "pygments_lexer": "ipython3",
   "version": "3.7.6"
  }
 },
 "nbformat": 4,
 "nbformat_minor": 5
}
